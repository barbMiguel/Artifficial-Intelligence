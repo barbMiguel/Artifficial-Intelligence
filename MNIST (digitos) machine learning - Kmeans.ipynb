{
 "cells": [
  {
   "cell_type": "code",
   "execution_count": 42,
   "metadata": {},
   "outputs": [],
   "source": [
    "#####################################\n",
    "# Autor: Miguel Angel Osorio Sanchez\n",
    "# Autor: Juan Camilo Cubillos Ayala\n",
    "# Universidad Icesi - Cali, Colombia\n",
    "#####################################\n",
    "\n",
    "#####################################\n",
    "# MNIST (digitos) machine learning - Kmeans\n",
    "#####################################\n",
    "\n",
    "####### PRESET OF DATA #######\n",
    "\n",
    "from sklearn.datasets import load_digits\n",
    "import pylab as pl\n",
    "import sklearn"
   ]
  },
  {
   "cell_type": "code",
   "execution_count": 43,
   "metadata": {},
   "outputs": [
    {
     "name": "stdout",
     "output_type": "stream",
     "text": [
      "[[ 0.  0.  0. 12. 13.  5.  0.  0.]\n",
      " [ 0.  0.  0. 11. 16.  9.  0.  0.]\n",
      " [ 0.  0.  3. 15. 16.  6.  0.  0.]\n",
      " [ 0.  7. 15. 16. 16.  2.  0.  0.]\n",
      " [ 0.  0.  1. 16. 16.  3.  0.  0.]\n",
      " [ 0.  0.  1. 16. 16.  6.  0.  0.]\n",
      " [ 0.  0.  1. 16. 16.  6.  0.  0.]\n",
      " [ 0.  0.  0. 11. 16. 10.  0.  0.]]\n"
     ]
    }
   ],
   "source": [
    "digits = load_digits()\n",
    "type(digits)\n",
    "digits.keys()\n",
    "print(digits.images[1])"
   ]
  },
  {
   "cell_type": "code",
   "execution_count": 44,
   "metadata": {},
   "outputs": [
    {
     "name": "stdout",
     "output_type": "stream",
     "text": [
      "[13. 16. 16. 16. 16. 16. 16. 16.]\n"
     ]
    }
   ],
   "source": [
    "print(digits.images[1][:,4])"
   ]
  },
  {
   "cell_type": "code",
   "execution_count": 45,
   "metadata": {},
   "outputs": [
    {
     "name": "stdout",
     "output_type": "stream",
     "text": [
      "Se tienen en total: 1797 imágenes\n",
      "[[ 0.  0.  0.  8. 15.  1.  0.  0.]\n",
      " [ 0.  0.  1. 14. 13.  1.  1.  0.]\n",
      " [ 0.  0. 10. 15.  3. 15. 11.  0.]\n",
      " [ 0.  7. 16.  7.  1. 16.  8.  0.]\n",
      " [ 0.  9. 16. 13. 14. 16.  5.  0.]\n",
      " [ 0.  1. 10. 15. 16. 14.  0.  0.]\n",
      " [ 0.  0.  0.  1. 16. 10.  0.  0.]\n",
      " [ 0.  0.  0. 10. 15.  4.  0.  0.]]\n"
     ]
    },
    {
     "data": {
      "text/plain": [
       "<Figure size 432x288 with 0 Axes>"
      ]
     },
     "metadata": {},
     "output_type": "display_data"
    },
    {
     "data": {
      "image/png": "[encoded data removed]",
      "text/plain": [
       "<Figure size 288x288 with 1 Axes>"
      ]
     },
     "metadata": {},
     "output_type": "display_data"
    }
   ],
   "source": [
    "####### DATA LOADING #######\n",
    "\n",
    "digits = load_digits()\n",
    "pl.gray() \n",
    "pl.matshow(digits.images[14]) \n",
    "cantidadImagenes = len(digits.images)\n",
    "print(\"Se tienen en total:\", cantidadImagenes, \"imágenes\")\n",
    "print(digits.images[14])"
   ]
  },
  {
   "cell_type": "code",
   "execution_count": 46,
   "metadata": {},
   "outputs": [
    {
     "data": {
      "text/plain": [
       "array([[ 0.,  0.,  9., 14.,  8.,  1.,  0.,  0.],\n",
       "       [ 0.,  0., 12., 14., 14., 12.,  0.,  0.],\n",
       "       [ 0.,  0.,  9., 10.,  0., 15.,  4.,  0.],\n",
       "       [ 0.,  0.,  3., 16., 12., 14.,  2.,  0.],\n",
       "       [ 0.,  0.,  4., 16., 16.,  2.,  0.,  0.],\n",
       "       [ 0.,  3., 16.,  8., 10., 13.,  2.,  0.],\n",
       "       [ 0.,  1., 15.,  1.,  3., 16.,  8.,  0.],\n",
       "       [ 0.,  0., 11., 16., 15., 11.,  1.,  0.]])"
      ]
     },
     "execution_count": 46,
     "metadata": {},
     "output_type": "execute_result"
    }
   ],
   "source": [
    "type(digits)\n",
    "digits['images'][8]"
   ]
  },
  {
   "cell_type": "code",
   "execution_count": null,
   "metadata": {},
   "outputs": [],
   "source": [
    "################################\n",
    "####### MACHINE LEARNING #######\n",
    "################################\n",
    "\n",
    "# Using the data generated above we are using machine learning for the software to be able to guess some digit between 0 and 9"
   ]
  },
  {
   "cell_type": "code",
   "execution_count": 47,
   "metadata": {},
   "outputs": [
    {
     "name": "stdout",
     "output_type": "stream",
     "text": [
      "4\n",
      "[ 0.  0.  0.  8. 15.  1.  0.  0.  0.  0.  1. 14. 13.  1.  1.  0.  0.  0.\n",
      " 10. 15.  3. 15. 11.  0.  0.  7. 16.  7.  1. 16.  8.  0.  0.  9. 16. 13.\n",
      " 14. 16.  5.  0.  0.  1. 10. 15. 16. 14.  0.  0.  0.  0.  0.  1. 16. 10.\n",
      "  0.  0.  0.  0.  0. 10. 15.  4.  0.  0.]\n"
     ]
    }
   ],
   "source": [
    "from sklearn.neighbors import KNeighborsClassifier\n",
    "import sklearn.metrics as metrics\n",
    "import pylab as plt\n",
    "\n",
    "# These are the arrays generated above with the concerning numbers\n",
    "y = digits.target \n",
    "print(y[14]) # Selecting the number 4 allocated in position 14\n",
    "X = digits.images.reshape((numImagenes, -1))\n",
    "print(X[14]) # Selecting the number 4 allocated in position 14\n",
    "\n",
    "\n",
    "knn = KNeighborsClassifier()\n",
    "fit = knn.fit(X, y)"
   ]
  },
  {
   "cell_type": "code",
   "execution_count": 48,
   "metadata": {},
   "outputs": [
    {
     "name": "stdout",
     "output_type": "stream",
     "text": [
      "Reales   : [0 1 2 3 4 5 6 7 8 9 0 1 2 3]\n",
      "Estimados: [0 1 2 3 4 9 6 7 8 9 0 1 2 3]\n"
     ]
    }
   ],
   "source": [
    "y_estimado = fit.predict(X)\n",
    "print(\"Reales   :\", y[0:14])\n",
    "print(\"Estimados:\", y_estimado[0:14])"
   ]
  },
  {
   "cell_type": "code",
   "execution_count": 49,
   "metadata": {},
   "outputs": [
    {
     "data": {
      "image/png": "[encoded data removed]",
      "text/plain": [
       "<Figure size 432x288 with 15 Axes>"
      ]
     },
     "metadata": {},
     "output_type": "display_data"
    }
   ],
   "source": [
    "images_and_predictions = list(zip(digits.images, y_estimado))\n",
    "for index, (image, prediction) in enumerate(images_and_predictions[:15]):\n",
    "    plt.subplot(3,5, index+1) \n",
    "    plt.axis('off') \n",
    "    plt.imshow(image, cmap=plt.cm.gray_r)\n",
    "    plt.title('Pred: %i' % prediction)\n",
    "plt.show()"
   ]
  },
  {
   "cell_type": "code",
   "execution_count": 50,
   "metadata": {},
   "outputs": [
    {
     "data": {
      "text/plain": [
       "0.9905397885364496"
      ]
     },
     "execution_count": 50,
     "metadata": {},
     "output_type": "execute_result"
    }
   ],
   "source": [
    "metrics.accuracy_score(y, y_estimado)"
   ]
  }
 ],
 "metadata": {
  "kernelspec": {
   "display_name": "Python 3",
   "language": "python",
   "name": "python3"
  },
  "language_info": {
   "codemirror_mode": {
    "name": "ipython",
    "version": 3
   },
   "file_extension": ".py",
   "mimetype": "text/x-python",
   "name": "python",
   "nbconvert_exporter": "python",
   "pygments_lexer": "ipython3",
   "version": "3.6.5"
  }
 },
 "nbformat": 4,
 "nbformat_minor": 2
}
